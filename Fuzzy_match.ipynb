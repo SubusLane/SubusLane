{
 "cells": [
  {
   "cell_type": "code",
   "execution_count": 6,
   "id": "9d119386",
   "metadata": {
    "scrolled": true
   },
   "outputs": [],
   "source": [
    "import pandas as pd\n",
    "from fuzzywuzzy import fuzz\n",
    "\n",
    "# Read the CSV file into a DataFrame\n",
    "df = pd.read_csv(\"C:\\\\Users\\\\subha\\\\Desktop\\\\Appen\\\\Fuzzy match\\\\input.csv\")\n",
    "\n",
    "# Define a function to calculate the fuzzy match ratio\n",
    "def fuzzy_match(string1, string2):\n",
    "    return fuzz.ratio(string1, string2)\n",
    "\n",
    "# Apply the fuzzy_match function to the two columns and create a new column with the match ratios\n",
    "df['match_ratio_word_1'] = df.apply(lambda row: fuzzy_match(row['word_given_1'], row['word_typed_1']), axis=1)\n",
    "df['match_ratio_word_2'] = df.apply(lambda row: fuzzy_match(row['word_given_2'], row['word_typed_2']), axis=1)\n",
    "\n",
    "# Save the DataFrame to a new CSV file\n",
    "df.to_csv('C:\\\\Users\\\\subha\\\\Desktop\\\\Appen\\\\Fuzzy match\\\\output.csv', index=False)\n"
   ]
  },
  {
   "cell_type": "code",
   "execution_count": null,
   "id": "f121bc96",
   "metadata": {},
   "outputs": [],
   "source": []
  },
  {
   "cell_type": "code",
   "execution_count": null,
   "id": "e82a035e",
   "metadata": {},
   "outputs": [],
   "source": []
  },
  {
   "cell_type": "code",
   "execution_count": null,
   "id": "be0d39bd",
   "metadata": {},
   "outputs": [],
   "source": []
  },
  {
   "cell_type": "code",
   "execution_count": null,
   "id": "cbcaa54a",
   "metadata": {},
   "outputs": [],
   "source": [
    "from fuzzywuzzy import fuzz\n",
    "\n",
    "def fuzzy_match(string1, string2):\n",
    "    # Calculate the fuzzy match ratio\n",
    "    ratio = fuzz.ratio(string1, string2)\n",
    "    return ratio\n",
    "\n",
    "# Example usage\n",
    "string1 = \"apple\"\n",
    "string2 = \"appel\"\n",
    "match_ratio = fuzzy_match(string1, string2)\n",
    "print(f\"Match ratio: {match_ratio}\")\n"
   ]
  }
 ],
 "metadata": {
  "kernelspec": {
   "display_name": "Python 3 (ipykernel)",
   "language": "python",
   "name": "python3"
  },
  "language_info": {
   "codemirror_mode": {
    "name": "ipython",
    "version": 3
   },
   "file_extension": ".py",
   "mimetype": "text/x-python",
   "name": "python",
   "nbconvert_exporter": "python",
   "pygments_lexer": "ipython3",
   "version": "3.9.7"
  }
 },
 "nbformat": 4,
 "nbformat_minor": 5
}
