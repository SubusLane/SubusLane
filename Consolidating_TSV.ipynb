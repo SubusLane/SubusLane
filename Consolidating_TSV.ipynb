{
 "cells": [
  {
   "cell_type": "code",
   "execution_count": 12,
   "id": "e7618ebf",
   "metadata": {},
   "outputs": [
    {
     "name": "stdout",
     "output_type": "stream",
     "text": [
      "Files combined successfully.\n"
     ]
    }
   ],
   "source": [
    "import os\n",
    "\n",
    "# List the directory where the TSV files are located\n",
    "directory = 'C:\\\\Users\\\\subha\\\\Appen\\\\Falcon Speech Collection 2023 - Hypernova\\\\Package\\\\Revised\\\\Revised on 31-05-2023 for city data'\n",
    "\n",
    "# Specify the output file path\n",
    "output_file = 'C:\\\\Users\\\\subha\\\\Appen\\\\Falcon Speech Collection 2023 - Hypernova\\\\Package\\\\Revised\\\\Revised on 31-05-2023 for city data\\\\consolidated.tsv'\n",
    "\n",
    "# Initialize a flag to check if the header has been written\n",
    "header_written = False\n",
    "\n",
    "# Open the output file in write mode\n",
    "with open(output_file, 'w') as outfile:\n",
    "    # Iterate over the files in the directory\n",
    "    for filename in os.listdir(directory):\n",
    "        if filename.endswith('.tsv'):\n",
    "            file_path = os.path.join(directory, filename)\n",
    "            # Open each TSV file in read mode\n",
    "            with open(file_path, 'r', encoding='utf-8', errors='ignore') as infile:\n",
    "                # Read lines from the input file\n",
    "                lines = infile.readlines()\n",
    "                # Check if it's the first file being processed\n",
    "                if not header_written:\n",
    "                    # Write the header to the output file\n",
    "                    outfile.write(lines[0])\n",
    "                    header_written = True\n",
    "                # Write the content (excluding the header) to the output file\n",
    "                outfile.writelines(lines[1:])\n",
    "\n",
    "# Print a message when the operation is complete\n",
    "print('Files combined successfully.')\n"
   ]
  },
  {
   "cell_type": "code",
   "execution_count": null,
   "id": "f80882f4",
   "metadata": {},
   "outputs": [],
   "source": []
  }
 ],
 "metadata": {
  "kernelspec": {
   "display_name": "Python 3 (ipykernel)",
   "language": "python",
   "name": "python3"
  },
  "language_info": {
   "codemirror_mode": {
    "name": "ipython",
    "version": 3
   },
   "file_extension": ".py",
   "mimetype": "text/x-python",
   "name": "python",
   "nbconvert_exporter": "python",
   "pygments_lexer": "ipython3",
   "version": "3.9.7"
  }
 },
 "nbformat": 4,
 "nbformat_minor": 5
}
