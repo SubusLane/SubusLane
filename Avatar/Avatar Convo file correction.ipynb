{
 "cells": [
  {
   "cell_type": "code",
   "execution_count": 1,
   "id": "349d848b",
   "metadata": {},
   "outputs": [
    {
     "name": "stdout",
     "output_type": "stream",
     "text": [
      "done!\n"
     ]
    }
   ],
   "source": [
    "import pandas as pd\n",
    "\n",
    "delivery_input = pd.read_csv(\"C:\\\\Users\\\\subha\\\\Desktop\\\\Appen\\\\Avatar file work\\\\Convo_file_work\\\\week25.csv\",encoding='cp1252')\n",
    "\n",
    "cols = [\"Delevery Date\",\"placeholder\",\"session_name\",\"_created_at\",\"ac_id\",\"week\",\"video01_qa_decision\",\n",
    "       \"video01_qa_rejection_reason\",\"video01_qa_comment\",\"video01_pii\",\"p1_facebook_url\",\"p1_age\",\"p1_gender\",\n",
    "       \"p1_ethnicity\",\"p1_comfortable_ratings\",\"p1_comfortable_rating_reason\",\"p1_fun_ratings\",\"p1_fun_rating_reason\",\n",
    "       \"p1_meaningful_ratings\",\"p1_meaningful_rating_reason\",\"p1_expressions_accuracy\",\"p1_expressions_accuracy_reason\",\n",
    "       \"p1_mouth_movements_accuracy\",\"p1_mouth_movements_accuracy_reason\",\"p1_emotions_accuracy\",\n",
    "       \"p1_emotions_accuracy_reason\",\"p1_happiness\",\"p1_sadness\",\"p1_surprise\",\"p1_anger\",\"p1_fear\",\"p1_disgust\",\n",
    "       \"p1_emotions_ratings\",\"p1_emotions_rating_reason\",\"p1_phone_model\",\"p1_country\",\"p1_phone_os\",\"p2_facebook_url\",\n",
    "       \"p2_age\",\"p2_gender\",\"p2_ethnicity\",\"p2_comfortable_ratings\",\"p2_comfortable_rating_reason\",\"p2_fun_ratings\",\n",
    "       \"p2_fun_rating_reason\",\"p2_meaningful_ratings\",\"p2_meaningful_rating_reason\",\"p2_expressions_accuracy\",\n",
    "       \"p2_expressions_accuracy_reason\",\"p2_mouth_movements_accuracy\",\"p2_mouth_movements_accuracy_reason\",\n",
    "       \"p2_emotions_accuracy\",\"p2_emotions_accuracy_reason\",\"p2_happiness\",\"p2_sadness\",\"p2_surprise\",\"p2_anger\",\n",
    "       \"p2_fear\",\"p2_disgust\",\"p2_emotions_ratings\",\"p2_emotions_rating_reason\",\"p2_phone_model\",\"p2_country\",\n",
    "       \"p2_phone_os\",\"video01_directory\",\"p1_avatar_type\",\"p2_avatar_type\"]\n",
    "\n",
    "new_delivery_input=delivery_input[cols]\n",
    "\n",
    "\n",
    "new_delivery_input.to_csv(\"C:\\\\Users\\\\subha\\\\Desktop\\\\Appen\\\\Avatar file work\\\\Convo_file_work\\\\week25_organised.csv\", index=False)\n",
    "print(\"done!\")\n",
    "\n",
    "\n",
    "\n"
   ]
  },
  {
   "cell_type": "code",
   "execution_count": null,
   "id": "883a410c",
   "metadata": {},
   "outputs": [],
   "source": []
  }
 ],
 "metadata": {
  "kernelspec": {
   "display_name": "Python 3 (ipykernel)",
   "language": "python",
   "name": "python3"
  },
  "language_info": {
   "codemirror_mode": {
    "name": "ipython",
    "version": 3
   },
   "file_extension": ".py",
   "mimetype": "text/x-python",
   "name": "python",
   "nbconvert_exporter": "python",
   "pygments_lexer": "ipython3",
   "version": "3.9.7"
  }
 },
 "nbformat": 4,
 "nbformat_minor": 5
}
