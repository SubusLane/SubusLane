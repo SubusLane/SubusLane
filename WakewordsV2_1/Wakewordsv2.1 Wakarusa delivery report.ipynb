{
 "cells": [
  {
   "cell_type": "code",
   "execution_count": 1,
   "id": "a439668a",
   "metadata": {},
   "outputs": [],
   "source": [
    "import pandas as pd\n",
    "\n",
    "\n",
    "df= pd.read_excel(\"C:\\\\Users\\\\subha\\\\Desktop\\Appen\\\\Wakewords2.1\\\\Data\\\\staked_output.xlsx\")\n",
    "\n",
    "df_n = pd.DataFrame()\n",
    "\n",
    "# Create new columns 'value1' and 'value2' with corresponding values\n",
    "df_n['directory_name'] = df.groupby('directory_name')['directory_name'].transform('first')\n",
    "df_n['pin'] = df.groupby('directory_name')['pin_x'].transform('first')\n",
    "df_n['locale'] = df.groupby('directory_name')['locale'].transform('first')\n",
    "df_n['number_of_utts'] = df.groupby('directory_name')['directory_name'].transform('count')\n",
    "df_n[\"delivered\"] = pd.to_datetime('2023-07-21')\n",
    "\n",
    "df_n = df_n.drop_duplicates()\n",
    "\n",
    "df_n.to_excel(\"C:\\\\Users\\\\subha\\\\Desktop\\Appen\\\\Wakewords2.1\\\\Data\\\\delivery_report.xlsx\", index=False)"
   ]
  },
  {
   "cell_type": "code",
   "execution_count": 12,
   "id": "6cde47b6",
   "metadata": {},
   "outputs": [],
   "source": [
    "df_n = df_n.drop_duplicates()\n",
    "\n",
    "df_n.to_excel(\"C:\\\\Users\\\\subha\\\\Desktop\\Appen\\\\Wakewords2.1\\\\Data\\\\delivery_report.xlsx\", index=False)"
   ]
  },
  {
   "cell_type": "code",
   "execution_count": null,
   "id": "a1932e78",
   "metadata": {},
   "outputs": [],
   "source": []
  }
 ],
 "metadata": {
  "kernelspec": {
   "display_name": "Python 3 (ipykernel)",
   "language": "python",
   "name": "python3"
  },
  "language_info": {
   "codemirror_mode": {
    "name": "ipython",
    "version": 3
   },
   "file_extension": ".py",
   "mimetype": "text/x-python",
   "name": "python",
   "nbconvert_exporter": "python",
   "pygments_lexer": "ipython3",
   "version": "3.9.7"
  }
 },
 "nbformat": 4,
 "nbformat_minor": 5
}
