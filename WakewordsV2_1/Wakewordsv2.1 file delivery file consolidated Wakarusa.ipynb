{
 "cells": [
  {
   "cell_type": "code",
   "execution_count": 1,
   "id": "85682fa3",
   "metadata": {},
   "outputs": [],
   "source": [
    "import pandas as pd\n",
    "import glob\n",
    "\n",
    "# getting excel files to be merged from the Desktop \n",
    "path = \"C:\\\\Users\\\\subha\\\\Appen\\\\Falcon Speech Collection 2023 - NWW 2.1\\\\package\\\\20230713\\\\\"\n",
    "\n",
    "# read all the files with extension .xlsx i.e. excel \n",
    "filenames = glob.glob(path + \"\\*WakeWords*.xlsx\")\n",
    "#print('File names:', filenames)\n",
    "\n",
    "# empty data frame for the new output excel file with the merged excel files\n",
    "outputxlsx = pd.DataFrame()\n",
    "\n",
    "# for loop to iterate all excel files\n",
    "for file in filenames:\n",
    "   # using concat for excel files\n",
    "   # after reading them with read_excel()\n",
    "   df = pd.concat(pd.read_excel( file, sheet_name=None), ignore_index=True, sort=False)\n",
    "\n",
    "   # appending data of excel files\n",
    "   outputxlsx = outputxlsx.append( df, ignore_index=True)\n",
    "#outputxlsx[\"delivered\"] = pd.to_datetime('2023-07-07')\n",
    "#print('Final Excel sheet now generated at the same location:')\n",
    "#outputxlsx.to_excel(\"C:\\\\Users\\\\subha\\\\Appen\\\\Falcon Speech Collection 2023 - NWW 2.1\\\\package\\\\20230707\\\\Consolidated_Delivery_20230707.xlsx\", index=False)\n",
    "\n",
    "outputxlsx[\"delivered\"] = pd.to_datetime('2023-07-07')\n",
    "#print('Final Excel sheet now generated at the same location:')\n",
    "outputxlsx = outputxlsx[['delivered'] + outputxlsx.columns.tolist()]\n",
    "outputxlsx.to_excel(\"C:\\\\Users\\\\subha\\\\Appen\\\\Falcon Speech Collection 2023 - NWW 2.1\\\\package\\\\20230713\\\\Consolidated_Delivery_20230713.xlsx\", index=False)\n",
    "\n",
    "\n"
   ]
  },
  {
   "cell_type": "code",
   "execution_count": null,
   "id": "0118ad1d",
   "metadata": {},
   "outputs": [],
   "source": []
  }
 ],
 "metadata": {
  "kernelspec": {
   "display_name": "Python 3 (ipykernel)",
   "language": "python",
   "name": "python3"
  },
  "language_info": {
   "codemirror_mode": {
    "name": "ipython",
    "version": 3
   },
   "file_extension": ".py",
   "mimetype": "text/x-python",
   "name": "python",
   "nbconvert_exporter": "python",
   "pygments_lexer": "ipython3",
   "version": "3.9.7"
  }
 },
 "nbformat": 4,
 "nbformat_minor": 5
}
